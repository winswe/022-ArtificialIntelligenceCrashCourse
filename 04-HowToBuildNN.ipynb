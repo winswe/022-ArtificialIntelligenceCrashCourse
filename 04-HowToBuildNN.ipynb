{
 "cells": [
  {
   "cell_type": "code",
   "execution_count": null,
   "id": "e32def7b",
   "metadata": {},
   "outputs": [],
   "source": [
    "#%matplotlib inlinne\n",
    "#%config InlineBackend.figure_format = 'retina'\n",
    "\n",
    "import numpy as np\n",
    "import torch\n",
    "from torchvision import datasets, transforms\n",
    "import helper\n",
    "import matplotlib.pyplot as plt\n",
    "from torch import nn\n",
    "import torch.nn.functional as F\n"
   ]
  },
  {
   "cell_type": "code",
   "execution_count": 13,
   "id": "94e382eb",
   "metadata": {},
   "outputs": [],
   "source": [
    "def view_classify(img, ps, version=\"MNIST\"):\n",
    "    ''' Function for viewing an image and it's predicted classes. '''\n",
    "    ps = ps.data.numpy().squeeze()\n",
    "    \n",
    "    fig, (ax1, ax2) = plt.subplots(figsize=(6,9), ncols=2)\n",
    "    ax1.imshow(img.resize_(1, 28, 28).numpy().squeeze())\n",
    "    ax1.set_title('Image')\n",
    "    ax1.axis('off')\n",
    "    \n",
    "    ax2.barh(np.arange(10), ps)\n",
    "    ax2.set_aspect(0.1)\n",
    "    ax2.set_yticks(np.arange(10))\n",
    "    if version == \"MNIST\":\n",
    "        ax2.set_yticklabels(np.arange(10))\n",
    "    ax2.set_title('Class Probability')\n",
    "    ax2.set_xlim(0, 1.1)\n",
    "    \n",
    "    plt.tight_layout()"
   ]
  },
  {
   "cell_type": "code",
   "execution_count": 2,
   "id": "2cea7b50",
   "metadata": {},
   "outputs": [],
   "source": [
    "transform = transforms.Compose([transforms.ToTensor(),\n",
    "transforms.Normalize((0.5),(0.5))])"
   ]
  },
  {
   "cell_type": "code",
   "execution_count": 3,
   "id": "d26677b3",
   "metadata": {},
   "outputs": [],
   "source": [
    "trainset = datasets.MNIST('MNIST_data/',download=True, train=True, transform=transform)\n",
    "trainloader = torch.utils.data.DataLoader(trainset, batch_size=64, shuffle=True)\n",
    "\n",
    "testset = datasets.MNIST('MNIST_data/',download=True, train=False, transform=transform)\n",
    "testloader = torch.utils.data.DataLoader(testset, batch_size=64, shuffle=True)"
   ]
  },
  {
   "cell_type": "code",
   "execution_count": 4,
   "id": "aa82e39e",
   "metadata": {},
   "outputs": [
    {
     "data": {
      "text/plain": [
       "Network(\n",
       "  (fc1): Linear(in_features=784, out_features=128, bias=True)\n",
       "  (fc2): Linear(in_features=128, out_features=64, bias=True)\n",
       "  (fc3): Linear(in_features=64, out_features=10, bias=True)\n",
       ")"
      ]
     },
     "execution_count": 4,
     "metadata": {},
     "output_type": "execute_result"
    }
   ],
   "source": [
    "class Network(nn.Module):\n",
    "    def __init__(self):\n",
    "        super().__init__()\n",
    "\n",
    "        self.fc1 = nn.Linear(784, 128)\n",
    "        self.fc2 = nn.Linear(128, 64)\n",
    "        self.fc3 = nn.Linear(64, 10)\n",
    "\n",
    "    def forward(self, x):\n",
    "        x = self.fc1(x)\n",
    "        x = F.relu(x)\n",
    "\n",
    "        x = self.fc2(x)\n",
    "        x = F.relu(x)\n",
    "\n",
    "        x = self.fc3(x)\n",
    "        x = F.softmax(x, dim=1)\n",
    "\n",
    "        return x\n",
    "\n",
    "model = Network()\n",
    "model"
   ]
  },
  {
   "cell_type": "code",
   "execution_count": 5,
   "id": "d7ebf046",
   "metadata": {},
   "outputs": [
    {
     "data": {
      "text/plain": [
       "Parameter containing:\n",
       "tensor([-0.0090, -0.0335, -0.0278,  0.0348, -0.0249, -0.0203, -0.0162,  0.0220,\n",
       "        -0.0038, -0.0092,  0.0200, -0.0089, -0.0118, -0.0333, -0.0198, -0.0145,\n",
       "         0.0210, -0.0076, -0.0264,  0.0080,  0.0107,  0.0042,  0.0103,  0.0249,\n",
       "         0.0328, -0.0009,  0.0038,  0.0244, -0.0291, -0.0288,  0.0314, -0.0164,\n",
       "        -0.0114,  0.0251,  0.0181,  0.0338,  0.0128,  0.0096,  0.0184, -0.0190,\n",
       "         0.0107,  0.0023,  0.0252,  0.0145, -0.0131, -0.0172,  0.0043,  0.0012,\n",
       "        -0.0036, -0.0333, -0.0108, -0.0250,  0.0343, -0.0314, -0.0157, -0.0228,\n",
       "         0.0320, -0.0023,  0.0183, -0.0067, -0.0091, -0.0193,  0.0184,  0.0152,\n",
       "         0.0102, -0.0174,  0.0008,  0.0299, -0.0118, -0.0090, -0.0206, -0.0355,\n",
       "         0.0219, -0.0341, -0.0043,  0.0310,  0.0181, -0.0181, -0.0119,  0.0040,\n",
       "         0.0151,  0.0264, -0.0208, -0.0321, -0.0016,  0.0032, -0.0281, -0.0334,\n",
       "        -0.0074,  0.0239, -0.0264, -0.0234,  0.0174, -0.0336, -0.0044, -0.0203,\n",
       "         0.0179,  0.0069, -0.0356,  0.0105,  0.0234,  0.0246,  0.0199,  0.0341,\n",
       "        -0.0177, -0.0234, -0.0078,  0.0347,  0.0042, -0.0231,  0.0053,  0.0095,\n",
       "        -0.0002,  0.0341,  0.0117, -0.0022, -0.0244,  0.0007,  0.0052,  0.0234,\n",
       "         0.0143,  0.0209,  0.0185, -0.0252,  0.0155, -0.0343,  0.0167,  0.0330],\n",
       "       requires_grad=True)"
      ]
     },
     "execution_count": 5,
     "metadata": {},
     "output_type": "execute_result"
    }
   ],
   "source": [
    "model.fc1.bias"
   ]
  },
  {
   "cell_type": "code",
   "execution_count": 6,
   "id": "96900f83",
   "metadata": {},
   "outputs": [
    {
     "data": {
      "text/plain": [
       "torch.Size([1, 784])"
      ]
     },
     "execution_count": 6,
     "metadata": {},
     "output_type": "execute_result"
    }
   ],
   "source": [
    "images, labels = next(iter(trainloader))\n",
    "images.resize_(images.shape[0], 1, 784)\n",
    "images[0].shape"
   ]
  },
  {
   "cell_type": "code",
   "execution_count": 11,
   "id": "ff95e681",
   "metadata": {},
   "outputs": [],
   "source": [
    "ps = model.forward(images[0])"
   ]
  },
  {
   "cell_type": "code",
   "execution_count": 14,
   "id": "f182b322",
   "metadata": {},
   "outputs": [
    {
     "data": {
      "image/png": "[encoded data removed]",
      "text/plain": [
       "<Figure size 600x900 with 2 Axes>"
      ]
     },
     "metadata": {},
     "output_type": "display_data"
    }
   ],
   "source": [
    "view_classify(images[0].view(1,28,28), ps)"
   ]
  }
 ],
 "metadata": {
  "kernelspec": {
   "display_name": "pytorch",
   "language": "python",
   "name": "python3"
  },
  "language_info": {
   "codemirror_mode": {
    "name": "ipython",
    "version": 3
   },
   "file_extension": ".py",
   "mimetype": "text/x-python",
   "name": "python",
   "nbconvert_exporter": "python",
   "pygments_lexer": "ipython3",
   "version": "3.12.0"
  }
 },
 "nbformat": 4,
 "nbformat_minor": 5
}
