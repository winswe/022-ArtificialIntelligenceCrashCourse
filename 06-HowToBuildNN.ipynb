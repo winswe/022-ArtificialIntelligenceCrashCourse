{
 "cells": [
  {
   "cell_type": "code",
   "execution_count": 11,
   "id": "b034f5ab",
   "metadata": {},
   "outputs": [],
   "source": [
    "import numpy as np\n",
    "import torch\n",
    "from torchvision import datasets, transforms\n",
    "import helper\n",
    "import matplotlib.pyplot as plt\n",
    "from torch import nn, optim\n",
    "import torch.nn.functional as F\n",
    "from collections import OrderedDict"
   ]
  },
  {
   "cell_type": "code",
   "execution_count": 2,
   "id": "9e02e9b2",
   "metadata": {},
   "outputs": [],
   "source": [
    "def view_classify(img, ps, version=\"MNIST\"):\n",
    "    ''' Function for viewing an image and it's predicted classes. '''\n",
    "    ps = ps.data.numpy().squeeze()\n",
    "    \n",
    "    fig, (ax1, ax2) = plt.subplots(figsize=(6,9), ncols=2)\n",
    "    ax1.imshow(img.resize_(1, 28, 28).numpy().squeeze())\n",
    "    ax1.set_title('Image')\n",
    "    ax1.axis('off')\n",
    "    \n",
    "    ax2.barh(np.arange(10), ps)\n",
    "    ax2.set_aspect(0.1)\n",
    "    ax2.set_yticks(np.arange(10))\n",
    "    if version == \"MNIST\":\n",
    "        ax2.set_yticklabels(np.arange(10))\n",
    "    ax2.set_title('Class Probability')\n",
    "    ax2.set_xlim(0, 1.1)\n",
    "    \n",
    "    plt.tight_layout()"
   ]
  },
  {
   "cell_type": "code",
   "execution_count": 3,
   "id": "bc12b647",
   "metadata": {},
   "outputs": [],
   "source": [
    "transform = transforms.Compose([transforms.ToTensor(),\n",
    "transforms.Normalize((0.5),(0.5))])"
   ]
  },
  {
   "cell_type": "code",
   "execution_count": 4,
   "id": "fda6cd84",
   "metadata": {},
   "outputs": [],
   "source": [
    "trainset = datasets.MNIST('MNIST_data/',download=True, train=True, transform=transform)\n",
    "trainloader = torch.utils.data.DataLoader(trainset, batch_size=64, shuffle=True)\n",
    "\n",
    "testset = datasets.MNIST('MNIST_data/',download=True, train=False, transform=transform)\n",
    "testloader = torch.utils.data.DataLoader(testset, batch_size=64, shuffle=True)"
   ]
  },
  {
   "cell_type": "code",
   "execution_count": 5,
   "id": "1f4f7a18",
   "metadata": {},
   "outputs": [
    {
     "data": {
      "text/plain": [
       "Sequential(\n",
       "  (fc1): Linear(in_features=784, out_features=128, bias=True)\n",
       "  (relu1): ReLU()\n",
       "  (fc2): Linear(in_features=128, out_features=64, bias=True)\n",
       "  (relu2): ReLU()\n",
       "  (output): Linear(in_features=64, out_features=10, bias=True)\n",
       "  (softmax): Softmax(dim=1)\n",
       ")"
      ]
     },
     "execution_count": 5,
     "metadata": {},
     "output_type": "execute_result"
    }
   ],
   "source": [
    "input_size = 784\n",
    "hidden_size = [128, 64]\n",
    "output_size = 10\n",
    "\n",
    "model = nn.Sequential(OrderedDict([\n",
    "    ('fc1', nn.Linear(input_size, hidden_size[0])),\n",
    "    ('relu1', nn.ReLU()),\n",
    "    ('fc2', nn.Linear(hidden_size[0], hidden_size[1])),\n",
    "    ('relu2', nn.ReLU()),\n",
    "    ('output', nn.Linear(hidden_size[1], output_size)),\n",
    "    ('softmax', nn.Softmax(dim=1))\n",
    "]))\n",
    "model"
   ]
  },
  {
   "cell_type": "code",
   "execution_count": 12,
   "id": "b43b9e1e",
   "metadata": {},
   "outputs": [
    {
     "name": "stdout",
     "output_type": "stream",
     "text": [
      "Before  Parameter containing:\n",
      "tensor([[ 0.0236,  0.0085, -0.0275,  ..., -0.0078, -0.0338,  0.0130],\n",
      "        [-0.0165, -0.0286, -0.0278,  ...,  0.0245,  0.0214,  0.0085],\n",
      "        [-0.0220,  0.0235, -0.0060,  ...,  0.0038,  0.0273, -0.0271],\n",
      "        ...,\n",
      "        [ 0.0269,  0.0134,  0.0339,  ..., -0.0127, -0.0038,  0.0094],\n",
      "        [ 0.0122,  0.0088, -0.0014,  ...,  0.0070, -0.0080,  0.0129],\n",
      "        [ 0.0152,  0.0084, -0.0136,  ..., -0.0112,  0.0051, -0.0108]],\n",
      "       requires_grad=True)\n"
     ]
    }
   ],
   "source": [
    "criterion = nn.CrossEntropyLoss()\n",
    "optimizer = optim.SGD(model.parameters(), lr=0.01)\n",
    "print('Before ', model.fc1.weight)"
   ]
  },
  {
   "cell_type": "code",
   "execution_count": 13,
   "id": "0a6e4b13",
   "metadata": {},
   "outputs": [
    {
     "name": "stdout",
     "output_type": "stream",
     "text": [
      "Graident  tensor([[ 6.3456e-04,  6.3456e-04,  6.3456e-04,  ...,  6.3456e-04,\n",
      "          6.3456e-04,  6.3456e-04],\n",
      "        [-4.4728e-05, -4.4728e-05, -4.4728e-05,  ..., -4.4728e-05,\n",
      "         -4.4728e-05, -4.4728e-05],\n",
      "        [ 1.7438e-05,  1.7438e-05,  1.7438e-05,  ...,  1.7438e-05,\n",
      "          1.7438e-05,  1.7438e-05],\n",
      "        ...,\n",
      "        [-8.3815e-05, -8.3815e-05, -8.3815e-05,  ..., -8.3815e-05,\n",
      "         -8.3815e-05, -8.3815e-05],\n",
      "        [ 1.1282e-05,  1.1282e-05,  1.1282e-05,  ...,  1.1282e-05,\n",
      "          1.1282e-05,  1.1282e-05],\n",
      "        [ 1.9639e-05,  1.9639e-05,  1.9639e-05,  ...,  1.9639e-05,\n",
      "          1.9639e-05,  1.9639e-05]])\n"
     ]
    }
   ],
   "source": [
    "images, labels = next(iter(trainloader))\n",
    "images.resize_(64, 784)\n",
    "\n",
    "optimizer.zero_grad()\n",
    "\n",
    "#Forward pass\n",
    "output = model.forward(images)\n",
    "loss = criterion(output, labels)\n",
    "loss.backward()\n",
    "print('Graident ', model.fc1.weight.grad)\n",
    "optimizer.step()"
   ]
  },
  {
   "cell_type": "code",
   "execution_count": 14,
   "id": "7e67803c",
   "metadata": {},
   "outputs": [
    {
     "name": "stdout",
     "output_type": "stream",
     "text": [
      "Updated weights - Parameter containing:\n",
      "tensor([[ 0.0236,  0.0085, -0.0275,  ..., -0.0078, -0.0338,  0.0130],\n",
      "        [-0.0165, -0.0286, -0.0278,  ...,  0.0245,  0.0214,  0.0085],\n",
      "        [-0.0220,  0.0235, -0.0060,  ...,  0.0038,  0.0273, -0.0271],\n",
      "        ...,\n",
      "        [ 0.0269,  0.0134,  0.0339,  ..., -0.0127, -0.0038,  0.0094],\n",
      "        [ 0.0122,  0.0088, -0.0014,  ...,  0.0070, -0.0080,  0.0129],\n",
      "        [ 0.0152,  0.0084, -0.0136,  ..., -0.0112,  0.0051, -0.0108]],\n",
      "       requires_grad=True)\n"
     ]
    }
   ],
   "source": [
    "print('Updated weights -', model.fc1.weight)"
   ]
  },
  {
   "cell_type": "code",
   "execution_count": null,
   "id": "c49863b1",
   "metadata": {},
   "outputs": [],
   "source": []
  },
  {
   "cell_type": "code",
   "execution_count": 7,
   "id": "24358b5a",
   "metadata": {},
   "outputs": [],
   "source": [
    "ps = model.forward(images[0])"
   ]
  },
  {
   "cell_type": "code",
   "execution_count": 8,
   "id": "63786e94",
   "metadata": {},
   "outputs": [
    {
     "data": {
      "image/png": "[encoded data removed]",
      "text/plain": [
       "<Figure size 600x900 with 2 Axes>"
      ]
     },
     "metadata": {},
     "output_type": "display_data"
    }
   ],
   "source": [
    "view_classify(images[0].view(1,28,28), ps)"
   ]
  },
  {
   "cell_type": "code",
   "execution_count": 9,
   "id": "610cb4a4",
   "metadata": {},
   "outputs": [
    {
     "data": {
      "text/plain": [
       "Linear(in_features=128, out_features=64, bias=True)"
      ]
     },
     "execution_count": 9,
     "metadata": {},
     "output_type": "execute_result"
    }
   ],
   "source": [
    "model.fc2"
   ]
  },
  {
   "cell_type": "code",
   "execution_count": null,
   "id": "a8fb7981",
   "metadata": {},
   "outputs": [],
   "source": []
  },
  {
   "cell_type": "code",
   "execution_count": null,
   "id": "df6578a7",
   "metadata": {},
   "outputs": [],
   "source": []
  }
 ],
 "metadata": {
  "kernelspec": {
   "display_name": "pytorch",
   "language": "python",
   "name": "python3"
  },
  "language_info": {
   "codemirror_mode": {
    "name": "ipython",
    "version": 3
   },
   "file_extension": ".py",
   "mimetype": "text/x-python",
   "name": "python",
   "nbconvert_exporter": "python",
   "pygments_lexer": "ipython3",
   "version": "3.12.0"
  }
 },
 "nbformat": 4,
 "nbformat_minor": 5
}
