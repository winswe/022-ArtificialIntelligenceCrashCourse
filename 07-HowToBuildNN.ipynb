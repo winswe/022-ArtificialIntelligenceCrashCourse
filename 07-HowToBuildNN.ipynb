{
 "cells": [
  {
   "cell_type": "code",
   "execution_count": 1,
   "id": "aeb0c4b1",
   "metadata": {},
   "outputs": [],
   "source": [
    "import numpy as np\n",
    "import torch\n",
    "from torchvision import datasets, transforms\n",
    "import helper\n",
    "import matplotlib.pyplot as plt\n",
    "from torch import nn, optim\n",
    "import torch.nn.functional as F\n",
    "from collections import OrderedDict"
   ]
  },
  {
   "cell_type": "code",
   "execution_count": 2,
   "id": "1821de24",
   "metadata": {},
   "outputs": [],
   "source": [
    "def view_classify(img, ps, version=\"MNIST\"):\n",
    "    ''' Function for viewing an image and it's predicted classes. '''\n",
    "    ps = ps.data.numpy().squeeze()\n",
    "    \n",
    "    fig, (ax1, ax2) = plt.subplots(figsize=(6,9), ncols=2)\n",
    "    ax1.imshow(img.resize_(1, 28, 28).numpy().squeeze())\n",
    "    ax1.set_title('Image')\n",
    "    ax1.axis('off')\n",
    "    \n",
    "    ax2.barh(np.arange(10), ps)\n",
    "    ax2.set_aspect(0.1)\n",
    "    ax2.set_yticks(np.arange(10))\n",
    "    if version == \"MNIST\":\n",
    "        ax2.set_yticklabels(np.arange(10))\n",
    "    ax2.set_title('Class Probability')\n",
    "    ax2.set_xlim(0, 1.1)\n",
    "    \n",
    "    plt.tight_layout()"
   ]
  },
  {
   "cell_type": "code",
   "execution_count": 3,
   "id": "4d578e68",
   "metadata": {},
   "outputs": [],
   "source": [
    "transform = transforms.Compose([transforms.ToTensor(),\n",
    "transforms.Normalize((0.5),(0.5))])"
   ]
  },
  {
   "cell_type": "code",
   "execution_count": 4,
   "id": "4a318b0a",
   "metadata": {},
   "outputs": [],
   "source": [
    "trainset = datasets.MNIST('MNIST_data/',download=True, train=True, transform=transform)\n",
    "trainloader = torch.utils.data.DataLoader(trainset, batch_size=64, shuffle=True)\n",
    "\n",
    "testset = datasets.MNIST('MNIST_data/',download=True, train=False, transform=transform)\n",
    "testloader = torch.utils.data.DataLoader(testset, batch_size=64, shuffle=True)"
   ]
  },
  {
   "cell_type": "code",
   "execution_count": 5,
   "id": "2aaaca13",
   "metadata": {},
   "outputs": [
    {
     "data": {
      "text/plain": [
       "Sequential(\n",
       "  (fc1): Linear(in_features=784, out_features=128, bias=True)\n",
       "  (relu1): ReLU()\n",
       "  (fc2): Linear(in_features=128, out_features=64, bias=True)\n",
       "  (relu2): ReLU()\n",
       "  (output): Linear(in_features=64, out_features=10, bias=True)\n",
       "  (softmax): Softmax(dim=1)\n",
       ")"
      ]
     },
     "execution_count": 5,
     "metadata": {},
     "output_type": "execute_result"
    }
   ],
   "source": [
    "input_size = 784\n",
    "hidden_size = [128, 64]\n",
    "output_size = 10\n",
    "\n",
    "model = nn.Sequential(OrderedDict([\n",
    "    ('fc1', nn.Linear(input_size, hidden_size[0])),\n",
    "    ('relu1', nn.ReLU()),\n",
    "    ('fc2', nn.Linear(hidden_size[0], hidden_size[1])),\n",
    "    ('relu2', nn.ReLU()),\n",
    "    ('output', nn.Linear(hidden_size[1], output_size)),\n",
    "    ('softmax', nn.Softmax(dim=1))\n",
    "]))\n",
    "model"
   ]
  },
  {
   "cell_type": "code",
   "execution_count": 10,
   "id": "5c488b7c",
   "metadata": {},
   "outputs": [
    {
     "name": "stdout",
     "output_type": "stream",
     "text": [
      "Training loss: 1.5453861745944155\n",
      "Training loss: 1.5238120840556586\n",
      "Training loss: 1.5154813488663386\n",
      "Training loss: 1.5104286511823821\n",
      "Training loss: 1.5058000138573555\n",
      "Training loss: 1.5027318614632337\n",
      "Training loss: 1.5001719591459994\n",
      "Training loss: 1.4983469242734442\n",
      "Training loss: 1.4957800543130333\n",
      "Training loss: 1.4942536016008747\n",
      "Training loss: 1.4925550608746787\n",
      "Training loss: 1.4920288624285636\n",
      "Training loss: 1.4890695834464864\n",
      "Training loss: 1.4897536114334806\n",
      "Training loss: 1.4875029345819437\n",
      "Training loss: 1.4880339055935712\n",
      "Training loss: 1.4870353450398963\n",
      "Training loss: 1.4858812851183958\n",
      "Training loss: 1.4852515282407244\n",
      "Training loss: 1.4848588145872168\n",
      "Training loss: 1.4848253866756902\n",
      "Training loss: 1.4854051183535855\n",
      "Training loss: 1.4835228580655828\n",
      "Training loss: 1.48304762692848\n",
      "Training loss: 1.4822448785625286\n",
      "Training loss: 1.4824662167888714\n",
      "Training loss: 1.4824222656709554\n",
      "Training loss: 1.4801471514234157\n",
      "Training loss: 1.4816782319469493\n",
      "Training loss: 1.4809096951220335\n",
      "Training loss: 1.4806262220400992\n",
      "Training loss: 1.4805821007502866\n",
      "Training loss: 1.4795327647916798\n",
      "Training loss: 1.4789896642983849\n",
      "Training loss: 1.4791953736530947\n",
      "Training loss: 1.4783692169291125\n",
      "Training loss: 1.4786156089321127\n",
      "Training loss: 1.4787877587113045\n",
      "Training loss: 1.478855523727596\n",
      "Training loss: 1.4775527769060277\n",
      "Training loss: 1.4780116223577242\n",
      "Training loss: 1.4776844700008058\n",
      "Training loss: 1.4780842949078281\n",
      "Training loss: 1.4768465446002448\n",
      "Training loss: 1.477810926528882\n",
      "Training loss: 1.4769127265985078\n",
      "Training loss: 1.476494153679561\n",
      "Training loss: 1.4767730162341965\n",
      "Training loss: 1.4766737059997852\n",
      "Training loss: 1.4768448291556922\n"
     ]
    }
   ],
   "source": [
    "criterion = nn.CrossEntropyLoss()\n",
    "optimizer = optim.SGD(model.parameters(), lr=0.3)\n",
    "\n",
    "epochs = 50\n",
    "for e in range(epochs):\n",
    "    running_loss = 0\n",
    "    for images, labels in trainloader:\n",
    "        # Flattern MNIST images into a 784 long vector\n",
    "        #images = images.view(images.shape[0], -1)\n",
    "        images = images.resize_(images.shape[0], 784)\n",
    "        # TODO: Training pass\n",
    "        optimizer.zero_grad()\n",
    "\n",
    "        output = model(images)\n",
    "        loss = criterion(output, labels)\n",
    "        loss.backward()\n",
    "        optimizer.step()\n",
    "\n",
    "        running_loss += loss.item()\n",
    "    else:\n",
    "        print(f'Training loss: {running_loss/len(trainloader)}')"
   ]
  },
  {
   "cell_type": "code",
   "execution_count": 13,
   "id": "3729774a",
   "metadata": {},
   "outputs": [
    {
     "data": {
      "image/png": "[encoded data removed]",
      "text/plain": [
       "<Figure size 600x900 with 2 Axes>"
      ]
     },
     "metadata": {},
     "output_type": "display_data"
    }
   ],
   "source": [
    "images, labels = next(iter(trainloader))\n",
    "\n",
    "img = images[0].view(1,784)\n",
    "# Turn off gradients to speed up this part\n",
    "with torch.no_grad():\n",
    "    logps = model(img)\n",
    "\n",
    "# Output of the network are Log-probabilities, need to take exponential for probabilities\n",
    "ps = torch.exp(logps)\n",
    "view_classify(img.view(1,28,28), ps)"
   ]
  }
 ],
 "metadata": {
  "kernelspec": {
   "display_name": "pytorch",
   "language": "python",
   "name": "python3"
  },
  "language_info": {
   "codemirror_mode": {
    "name": "ipython",
    "version": 3
   },
   "file_extension": ".py",
   "mimetype": "text/x-python",
   "name": "python",
   "nbconvert_exporter": "python",
   "pygments_lexer": "ipython3",
   "version": "3.12.0"
  }
 },
 "nbformat": 4,
 "nbformat_minor": 5
}
